{
 "cells": [
  {
   "cell_type": "markdown",
   "metadata": {},
   "source": [
    "## if else statement"
   ]
  },
  {
   "cell_type": "markdown",
   "metadata": {},
   "source": [
    "- ### if\n",
    "\n",
    "\n",
    "    - 判斷某條件是否為真，返回布林值\n",
    "    - if 子句完成時以\":\"結尾並換行\n",
    "    - 新的一行代表if條件成立時，要執行的動作\n",
    "    - 使用邏輯判斷符號來建構 ==, !=, >, <, >=, <=\n",
    "    - 若條件不成立即略過\n",
    "    - 新的一行必須使用縮排"
   ]
  },
  {
   "cell_type": "code",
   "execution_count": 3,
   "metadata": {},
   "outputs": [
    {
     "name": "stdout",
     "output_type": "stream",
     "text": [
      "Everyone loves Tony\n"
     ]
    }
   ],
   "source": [
    "tony = 'nice guy'\n",
    "if tony == 'nice guy':\n",
    "    print('Everyone loves Tony')"
   ]
  },
  {
   "cell_type": "code",
   "execution_count": 4,
   "metadata": {},
   "outputs": [
    {
     "name": "stdout",
     "output_type": "stream",
     "text": [
      "Because Tony is Iron Man\n"
     ]
    }
   ],
   "source": [
    "tony = 'not a nice guy'\n",
    "if tony != 'nice guy':\n",
    "    print('Because Tony is Iron Man')"
   ]
  },
  {
   "cell_type": "markdown",
   "metadata": {},
   "source": [
    "- ### 關鍵字 and\n",
    "\n",
    "\n",
    "    - 檢查兩個條件是否同時成立，等同交集的概念"
   ]
  },
  {
   "cell_type": "code",
   "execution_count": 5,
   "metadata": {},
   "outputs": [
    {
     "name": "stdout",
     "output_type": "stream",
     "text": [
      "num is an even number greater than 50\n"
     ]
    }
   ],
   "source": [
    "num = 100\n",
    "if num > 50 and num % 2 == 0:\n",
    "    print('num is an even number greater than 50')"
   ]
  },
  {
   "cell_type": "markdown",
   "metadata": {},
   "source": [
    "- ### 關鍵字 or\n",
    "\n",
    "\n",
    "    - 檢查兩個條件其中之一是否成立，聯集的概念"
   ]
  },
  {
   "cell_type": "code",
   "execution_count": 11,
   "metadata": {},
   "outputs": [
    {
     "name": "stdout",
     "output_type": "stream",
     "text": [
      "approved\n"
     ]
    }
   ],
   "source": [
    "num = 100\n",
    "if num == 0 or num == 100:\n",
    "    print('approved')"
   ]
  },
  {
   "cell_type": "markdown",
   "metadata": {},
   "source": [
    "- ### 關鍵字 in\n",
    "\n",
    "\n",
    "    - 檢查元素是否包含於序列、集合之中"
   ]
  },
  {
   "cell_type": "code",
   "execution_count": 7,
   "metadata": {},
   "outputs": [],
   "source": [
    "my_list = [1,2,3]\n",
    "if 0 in my_list:\n",
    "    print('0 exists')\n",
    "    \n",
    "# 注意這裡沒有輸出，因為條件不符"
   ]
  },
  {
   "cell_type": "code",
   "execution_count": 8,
   "metadata": {},
   "outputs": [
    {
     "name": "stdout",
     "output_type": "stream",
     "text": [
      "got you!\n"
     ]
    }
   ],
   "source": [
    "my_str = 'how are you'\n",
    "if 'you' in my_str:\n",
    "    print('got you!')"
   ]
  },
  {
   "cell_type": "markdown",
   "metadata": {},
   "source": [
    "- ### 關鍵字 not\n",
    "\n",
    "\n",
    "    - 將判斷結果布林值反轉 True-> False, False-> True"
   ]
  },
  {
   "cell_type": "code",
   "execution_count": 9,
   "metadata": {},
   "outputs": [
    {
     "name": "stdout",
     "output_type": "stream",
     "text": [
      "0 not exists\n"
     ]
    }
   ],
   "source": [
    "my_list = [1,2,3]\n",
    "if 0 not in my_list:\n",
    "    print('0 not exists')"
   ]
  },
  {
   "cell_type": "code",
   "execution_count": 10,
   "metadata": {},
   "outputs": [
    {
     "name": "stdout",
     "output_type": "stream",
     "text": [
      "0 not exists\n"
     ]
    }
   ],
   "source": [
    "if not 0 in my_list:\n",
    "    print('0 not exists')"
   ]
  },
  {
   "cell_type": "markdown",
   "metadata": {},
   "source": [
    "[-- QUIZ --]\n",
    "\n",
    "想想看以下語法的意義\n",
    "```\n",
    "my_list = [1,2,3]\n",
    "if not my_list:\n",
    "    print('something')\n",
    "```\n",
    "---\n",
    "\n",
    "```\n",
    "my_num = 123\n",
    "if my_num:\n",
    "    print('something')\n",
    "```"
   ]
  },
  {
   "cell_type": "code",
   "execution_count": 21,
   "metadata": {},
   "outputs": [],
   "source": [
    "x = [1,2,3]\n",
    "#           True    False\n",
    "#    int    others    0\n",
    "#    str    others    ''\n",
    "#    float  others    0.0\n",
    "#    list   [i,j]     []\n",
    "#    dict   {k:v}     {}"
   ]
  },
  {
   "cell_type": "code",
   "execution_count": 23,
   "metadata": {},
   "outputs": [
    {
     "name": "stdout",
     "output_type": "stream",
     "text": [
      "123\n"
     ]
    }
   ],
   "source": [
    "if not x: # bool(x) = if True:\n",
    "    print(123)"
   ]
  },
  {
   "cell_type": "code",
   "execution_count": 22,
   "metadata": {},
   "outputs": [
    {
     "data": {
      "text/plain": [
       "True"
      ]
     },
     "execution_count": 22,
     "metadata": {},
     "output_type": "execute_result"
    }
   ],
   "source": [
    "bool(x)"
   ]
  },
  {
   "cell_type": "markdown",
   "metadata": {},
   "source": [
    "- ### else, elif\n",
    "\n",
    "\n",
    "    - 搭配if使用，且只能在已有if的狀況下使用\n",
    "    - elif 可以有一個以上，而if, else 只能有一個\n",
    "    - if, else, elif之中，只有其中一個的條件會被判斷符合，並執行後續動作\n",
    "    - 因此，if, else, elif在定義時必須是完全互斥的不同條件"
   ]
  },
  {
   "cell_type": "code",
   "execution_count": 17,
   "metadata": {},
   "outputs": [
    {
     "name": "stdout",
     "output_type": "stream",
     "text": [
      "basketball player\n"
     ]
    }
   ],
   "source": [
    "height = 200\n",
    "if height > 300:\n",
    "    print('not human')\n",
    "elif 180 < height < 300:\n",
    "    print('basketball player')\n",
    "elif 150 < height < 180:\n",
    "    print('programer')\n",
    "else:\n",
    "    print('kid')"
   ]
  },
  {
   "cell_type": "markdown",
   "metadata": {},
   "source": [
    "[-- QUIZ --]\n",
    "\n",
    "以上程式中存在一個嚴重的邏輯錯誤，你發現了嗎?\n"
   ]
  },
  {
   "cell_type": "markdown",
   "metadata": {},
   "source": [
    "- ### 巢狀條件判斷\n",
    "\n",
    "\n",
    "    - 多層if else使用\n",
    "    - 條件越分越細"
   ]
  },
  {
   "cell_type": "code",
   "execution_count": 13,
   "metadata": {},
   "outputs": [
    {
     "name": "stdout",
     "output_type": "stream",
     "text": [
      "award\n"
     ]
    }
   ],
   "source": [
    "subject = 'math'\n",
    "score = 100\n",
    "\n",
    "if subject == 'math':\n",
    "    if score >= 90:\n",
    "        print('award')\n",
    "    else:\n",
    "        print('try again')\n",
    "\n",
    "else:\n",
    "    if score >= 90:\n",
    "        print('good job')\n",
    "    else:\n",
    "        print('try again')\n"
   ]
  },
  {
   "cell_type": "markdown",
   "metadata": {},
   "source": [
    "- ### 分段條件判斷\n",
    "\n",
    "\n",
    "    - 多次if else使用\n",
    "    - 判斷不同狀況"
   ]
  },
  {
   "cell_type": "code",
   "execution_count": 14,
   "metadata": {},
   "outputs": [
    {
     "name": "stdout",
     "output_type": "stream",
     "text": [
      "award\n",
      "english course taken\n"
     ]
    }
   ],
   "source": [
    "scores = {'math':100, 'english':80}\n",
    "\n",
    "if scores['math'] >= 90:\n",
    "    print('award')\n",
    "else:\n",
    "    print('try again')\n",
    "\n",
    "if 'english' in scores.keys():\n",
    "    print('english course taken')"
   ]
  },
  {
   "cell_type": "markdown",
   "metadata": {},
   "source": [
    "- ### 用if, else來指定變數\n",
    "\n",
    "\n",
    "    - 專屬於python獨特的寫法\n",
    "    - 不可用elif"
   ]
  },
  {
   "cell_type": "code",
   "execution_count": 15,
   "metadata": {},
   "outputs": [
    {
     "data": {
      "text/plain": [
       "'Failed'"
      ]
     },
     "execution_count": 15,
     "metadata": {},
     "output_type": "execute_result"
    }
   ],
   "source": [
    "score = 59\n",
    "result = score if score >= 60 else 'Failed'\n",
    "result"
   ]
  },
  {
   "cell_type": "markdown",
   "metadata": {},
   "source": [
    "---"
   ]
  },
  {
   "cell_type": "markdown",
   "metadata": {},
   "source": [
    "## loop 迴圈\n",
    "\n",
    "\n",
    "    - 執行重複的動作"
   ]
  },
  {
   "cell_type": "markdown",
   "metadata": {},
   "source": [
    "- ### for loop\n",
    "\n",
    "\n",
    "    - 知道要執行的次數時使用\n",
    "    - 對一個序列或資料集合，一次取出一個元素做操作\n",
    "    - loop語句結尾同樣使用\":\"後換行\n",
    "    - 新的一行開頭使用縮排\n",
    "    - 什麼是iterable"
   ]
  },
  {
   "cell_type": "code",
   "execution_count": 16,
   "metadata": {},
   "outputs": [
    {
     "name": "stdout",
     "output_type": "stream",
     "text": [
      "1\n",
      "2\n",
      "3\n"
     ]
    }
   ],
   "source": [
    "for i in [1,2,3]:\n",
    "    print(i)"
   ]
  },
  {
   "cell_type": "markdown",
   "metadata": {},
   "source": [
    "- ### range()\n",
    "\n",
    "\n",
    "    - 產生一個資料序列\n",
    "    - 設置起始值與結束值\n",
    "    - 起始值為0可省略，結束值不可省略"
   ]
  },
  {
   "cell_type": "code",
   "execution_count": 19,
   "metadata": {},
   "outputs": [
    {
     "name": "stdout",
     "output_type": "stream",
     "text": [
      "0\n",
      "1\n",
      "2\n",
      "3\n",
      "4\n",
      "5\n",
      "6\n",
      "7\n",
      "8\n",
      "9\n"
     ]
    }
   ],
   "source": [
    "for i in range(10):\n",
    "    print(i)"
   ]
  },
  {
   "cell_type": "markdown",
   "metadata": {},
   "source": [
    "- ### while loop\n",
    "\n",
    "\n",
    "    - 不知道要執行幾次時使用\n",
    "    - 設置起始點、停止條件\n",
    "    - 什麼是無窮迴圈"
   ]
  },
  {
   "cell_type": "code",
   "execution_count": 14,
   "metadata": {},
   "outputs": [
    {
     "name": "stdout",
     "output_type": "stream",
     "text": [
      "hello world\n",
      "hello world\n",
      "hello world\n",
      "hello world\n",
      "hello world\n",
      "hello world\n",
      "hello world\n",
      "hello world\n",
      "hello world\n",
      "hello world\n"
     ]
    }
   ],
   "source": [
    "x = 0                    #起始值\n",
    "while x < 10:            # 停止條件: 當 x < 10 為 False時停止\n",
    "    print('hello world') # 每次迴圈的動作\n",
    "    x = x + 1            # 使迴圈正確執行的關鍵條件，若沒有就會變成無窮迴圈"
   ]
  },
  {
   "cell_type": "markdown",
   "metadata": {},
   "source": [
    "    - 最簡單也最危險的無窮迴圈"
   ]
  },
  {
   "cell_type": "code",
   "execution_count": null,
   "metadata": {},
   "outputs": [],
   "source": [
    "while True:\n",
    "    print('請給我食物')"
   ]
  },
  {
   "cell_type": "markdown",
   "metadata": {},
   "source": [
    "- ### 如何停止迴圈"
   ]
  },
  {
   "cell_type": "markdown",
   "metadata": {},
   "source": [
    "    - break 關鍵字"
   ]
  },
  {
   "cell_type": "code",
   "execution_count": 18,
   "metadata": {},
   "outputs": [
    {
     "name": "stdout",
     "output_type": "stream",
     "text": [
      "請給我食物\n",
      "請給我食物\n",
      "請給我食物\n",
      "請給我食物\n",
      "請給我食物\n"
     ]
    }
   ],
   "source": [
    "x = 0\n",
    "while True:\n",
    "    if x == 5:\n",
    "        break\n",
    "    print('請給我食物')\n",
    "    x += 1"
   ]
  },
  {
   "cell_type": "code",
   "execution_count": 20,
   "metadata": {},
   "outputs": [
    {
     "name": "stdout",
     "output_type": "stream",
     "text": [
      "found 999\n"
     ]
    }
   ],
   "source": [
    "for i in [3,4,3,4,3,4,3,4,999,4,3,4,3,4,3,4]:\n",
    "    if i == 999:\n",
    "        print('found 999')\n",
    "        break"
   ]
  },
  {
   "cell_type": "markdown",
   "metadata": {},
   "source": [
    "    - continue 關鍵字"
   ]
  },
  {
   "cell_type": "code",
   "execution_count": 21,
   "metadata": {},
   "outputs": [
    {
     "name": "stdout",
     "output_type": "stream",
     "text": [
      "1999\n",
      "2999\n",
      "3999\n"
     ]
    }
   ],
   "source": [
    "for i in [1,2,3,4,5]:\n",
    "    i *= 1000\n",
    "    if i > 3000:\n",
    "        continue\n",
    "    i += 999\n",
    "    print(i)\n",
    "    "
   ]
  },
  {
   "cell_type": "markdown",
   "metadata": {},
   "source": [
    "- ### tuple展開式與迴圈\n",
    "\n",
    "\n",
    "    - 每次用for迴圈取出的元素若是tuple，可用展開式宣告兩個變數承接"
   ]
  },
  {
   "cell_type": "code",
   "execution_count": 25,
   "metadata": {},
   "outputs": [
    {
     "data": {
      "text/plain": [
       "dict_items([('a', 1), ('b', 2)])"
      ]
     },
     "execution_count": 25,
     "metadata": {},
     "output_type": "execute_result"
    }
   ],
   "source": [
    "my_dict = {'a':1, 'b':2}\n",
    "my_dict.items()"
   ]
  },
  {
   "cell_type": "code",
   "execution_count": 22,
   "metadata": {},
   "outputs": [
    {
     "name": "stdout",
     "output_type": "stream",
     "text": [
      "A 100\n",
      "B 200\n"
     ]
    }
   ],
   "source": [
    "my_dict = {'a':1, 'b':2}\n",
    "for k, v in my_dict.items(): # (a, 1), ( b, 2)\n",
    "    print(k.upper(), v*100)"
   ]
  },
  {
   "cell_type": "markdown",
   "metadata": {},
   "source": [
    "[-- QUIZ --]\n",
    "\n",
    "\n",
    "計算並印出美金10, 50, 100換算台幣的金額"
   ]
  },
  {
   "cell_type": "code",
   "execution_count": null,
   "metadata": {},
   "outputs": [],
   "source": [
    "usd_list = [10, 50, 100]\n",
    "rate = 30\n",
    "for usd in usd_list:\n",
    "    print(usd * rate)"
   ]
  },
  {
   "cell_type": "markdown",
   "metadata": {},
   "source": [
    "[-- QUIZ --]\n",
    "\n",
    "某學期班上學生成績資料如下\n",
    "\n",
    "```\n",
    "scores = {\n",
    "    'Tony': {\n",
    "        'math':100,\n",
    "        'english':100,\n",
    "        'science':100\n",
    "    },\n",
    "    'John': {\n",
    "        'math': 60,\n",
    "        'english':30\n",
    "    },\n",
    "    'Jane': {\n",
    "        'math':0,\n",
    "        'english':59,\n",
    "        'science':80\n",
    "    }\n",
    "}\n",
    "```\n",
    "\n",
    "全班有幾個學生?\n",
    "\n",
    "數學不及格的人有幾人?\n",
    "\n",
    "計算全班數學平均成績\n",
    "\n",
    "英文不及格的人有幾人?\n",
    "\n",
    "計算全班英文平均成績\n",
    "\n",
    "計算數學，英文，科學都有成績的人的平均成績\n",
    "\n",
    "沒有修科學的人是誰?\n",
    "\n",
    "數學和英文加起來未達150，則不能畢業，不能畢業的人有哪些?"
   ]
  },
  {
   "cell_type": "code",
   "execution_count": 26,
   "metadata": {},
   "outputs": [],
   "source": [
    "scores = {\n",
    "    'Tony': {\n",
    "        'math':100,\n",
    "        'english':100,\n",
    "        'science':100\n",
    "    },\n",
    "    'John': {\n",
    "        'math': 60,\n",
    "        'english':30\n",
    "    },\n",
    "    'Jane': {\n",
    "        'math':0,\n",
    "        'english':59,\n",
    "        'science':80\n",
    "    }\n",
    "}"
   ]
  },
  {
   "cell_type": "code",
   "execution_count": 27,
   "metadata": {},
   "outputs": [
    {
     "data": {
      "text/plain": [
       "3"
      ]
     },
     "execution_count": 27,
     "metadata": {},
     "output_type": "execute_result"
    }
   ],
   "source": [
    "len(scores)"
   ]
  },
  {
   "cell_type": "code",
   "execution_count": 29,
   "metadata": {},
   "outputs": [],
   "source": [
    "count = 0\n",
    "for s in scores.values():\n",
    "    if s['math'] < 60:\n",
    "        count += 1"
   ]
  },
  {
   "cell_type": "code",
   "execution_count": 30,
   "metadata": {},
   "outputs": [
    {
     "data": {
      "text/plain": [
       "1"
      ]
     },
     "execution_count": 30,
     "metadata": {},
     "output_type": "execute_result"
    }
   ],
   "source": [
    "count"
   ]
  },
  {
   "cell_type": "code",
   "execution_count": 35,
   "metadata": {},
   "outputs": [
    {
     "data": {
      "text/plain": [
       "53.333333333333336"
      ]
     },
     "execution_count": 35,
     "metadata": {},
     "output_type": "execute_result"
    }
   ],
   "source": [
    "sum_score = 0\n",
    "for score in scores.values():\n",
    "    sum_score += score['math'] # sum_score = sum_score + score['math']\n",
    "    \n",
    "length = len(scores)\n",
    "\n",
    "sum_score / length"
   ]
  },
  {
   "cell_type": "code",
   "execution_count": 36,
   "metadata": {},
   "outputs": [
    {
     "data": {
      "text/plain": [
       "2"
      ]
     },
     "execution_count": 36,
     "metadata": {},
     "output_type": "execute_result"
    }
   ],
   "source": [
    "count = 0\n",
    "for s in scores.values():\n",
    "    if s['english'] < 60:\n",
    "        count += 1\n",
    "        \n",
    "count"
   ]
  },
  {
   "cell_type": "code",
   "execution_count": 46,
   "metadata": {},
   "outputs": [
    {
     "name": "stdout",
     "output_type": "stream",
     "text": [
      "Tony 100.0\n",
      "Jane 46.333333333333336\n"
     ]
    }
   ],
   "source": [
    "for k, v in scores.items():\n",
    "    if 'math' in v and 'english' in v and 'science' in v:\n",
    "        print(k, sum(v.values()) / 3)"
   ]
  },
  {
   "cell_type": "code",
   "execution_count": 48,
   "metadata": {},
   "outputs": [
    {
     "name": "stdout",
     "output_type": "stream",
     "text": [
      "John\n"
     ]
    }
   ],
   "source": [
    "for k, v in scores.items():\n",
    "    if 'science' not in v:\n",
    "        print(k)"
   ]
  },
  {
   "cell_type": "code",
   "execution_count": 49,
   "metadata": {},
   "outputs": [
    {
     "name": "stdout",
     "output_type": "stream",
     "text": [
      "John\n",
      "Jane\n"
     ]
    }
   ],
   "source": [
    "for k, v in scores.items():\n",
    "    if v['math'] + v['english'] < 150:\n",
    "        print(k)"
   ]
  },
  {
   "cell_type": "code",
   "execution_count": null,
   "metadata": {},
   "outputs": [],
   "source": []
  }
 ],
 "metadata": {
  "kernelspec": {
   "display_name": "Python 3 (ipykernel)",
   "language": "python",
   "name": "python3"
  },
  "language_info": {
   "codemirror_mode": {
    "name": "ipython",
    "version": 3
   },
   "file_extension": ".py",
   "mimetype": "text/x-python",
   "name": "python",
   "nbconvert_exporter": "python",
   "pygments_lexer": "ipython3",
   "version": "3.9.7"
  }
 },
 "nbformat": 4,
 "nbformat_minor": 2
}
