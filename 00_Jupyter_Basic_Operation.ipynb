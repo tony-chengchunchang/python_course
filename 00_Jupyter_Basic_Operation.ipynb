{
 "cells": [
  {
   "cell_type": "markdown",
   "id": "c33b7eef",
   "metadata": {},
   "source": [
    "## 常用名詞"
   ]
  },
  {
   "cell_type": "markdown",
   "id": "9813529f",
   "metadata": {},
   "source": [
    "### notebook檔/.ipynb\n",
    "可以執行片段程式並立即看到結果的編輯模式\n",
    "\n",
    "### py檔/.py\n",
    "標準Python腳本，用於正式上線環境及自動化流程\n",
    "\n",
    "### cell\n",
    "notebook中的一行/一格，可以撰寫程式的地方\n",
    "\n",
    "### Command mode(CMD mode)\n",
    "接收notebook整體版面操作相關命令\n",
    "\n",
    "### Edit mode\n",
    "接收程式碼編輯相關命令\n"
   ]
  },
  {
   "cell_type": "markdown",
   "id": "c681a3b0",
   "metadata": {},
   "source": [
    "---"
   ]
  },
  {
   "cell_type": "markdown",
   "id": "e1d664ba",
   "metadata": {},
   "source": [
    "## Command mode操作"
   ]
  },
  {
   "cell_type": "markdown",
   "id": "c3e2b12d",
   "metadata": {},
   "source": [
    "### 執行程式: `shift + enter`\n",
    "\n",
    "### 執行程式後產生新行: `alt + enter`\n",
    "\n",
    "### 往下新增cell: `B`\n",
    "\n",
    "### 往上新增cell: `A`\n",
    "\n",
    "### 刪除cell: `DD`\n",
    "\n",
    "### 剪下cell: `X`\n",
    "\n",
    "### 貼上cell: `V`\n",
    "\n",
    "### 合併cell: `M`"
   ]
  },
  {
   "cell_type": "markdown",
   "id": "29b3f5f7",
   "metadata": {},
   "source": [
    "---"
   ]
  },
  {
   "cell_type": "markdown",
   "id": "3a392031",
   "metadata": {},
   "source": [
    "## Edit mode 操作\n",
    "\n",
    "### 複製: `ctrl + c`\n",
    "### 貼上: `ctrl + v`\n",
    "### 剪下: `ctrl + x`\n",
    "### 回上一步: `ctrl + z`\n",
    "### 縮排: `tab`\n",
    "### 回復縮排: `shift + tab`\n",
    "### 註解: `#` or `ctrl + /`"
   ]
  },
  {
   "cell_type": "markdown",
   "id": "bfdc8a43",
   "metadata": {},
   "source": [
    "---"
   ]
  },
  {
   "cell_type": "markdown",
   "id": "06a0365b",
   "metadata": {},
   "source": [
    "[-- QUIZ --]\n",
    "\n",
    "練習執行你的第一段程式"
   ]
  },
  {
   "cell_type": "code",
   "execution_count": null,
   "id": "d762f2ce",
   "metadata": {},
   "outputs": [],
   "source": [
    "'hello world'"
   ]
  }
 ],
 "metadata": {
  "kernelspec": {
   "display_name": "Python 3 (ipykernel)",
   "language": "python",
   "name": "python3"
  },
  "language_info": {
   "codemirror_mode": {
    "name": "ipython",
    "version": 3
   },
   "file_extension": ".py",
   "mimetype": "text/x-python",
   "name": "python",
   "nbconvert_exporter": "python",
   "pygments_lexer": "ipython3",
   "version": "3.9.18"
  }
 },
 "nbformat": 4,
 "nbformat_minor": 5
}
