{
 "cells": [
  {
   "cell_type": "markdown",
   "metadata": {},
   "source": [
    "## 生成式\n",
    "\n",
    "使用迴圈概念建立資料序列的方法"
   ]
  },
  {
   "cell_type": "markdown",
   "metadata": {},
   "source": [
    "[-- QUIZ --]\n",
    "\n",
    "建立一個包含1~20整數的串列"
   ]
  },
  {
   "cell_type": "code",
   "execution_count": 1,
   "metadata": {},
   "outputs": [
    {
     "data": {
      "text/plain": [
       "[1, 2, 3, 4, 5, 6, 7, 8, 9, 10, 11, 12, 13, 14, 15, 16, 17, 18, 19, 20]"
      ]
     },
     "execution_count": 1,
     "metadata": {},
     "output_type": "execute_result"
    }
   ],
   "source": [
    "my_list = []\n",
    "for i in range(1, 21):\n",
    "    my_list.append(i)\n",
    "    \n",
    "my_list"
   ]
  },
  {
   "cell_type": "markdown",
   "metadata": {},
   "source": [
    "## list生成式\n",
    "\n",
    "\n",
    "    - 取代迴圈語法的區塊結構\n",
    "    - 僅用一行程式碼\n",
    "    - 使用for迴圈概念"
   ]
  },
  {
   "cell_type": "code",
   "execution_count": 2,
   "metadata": {},
   "outputs": [
    {
     "data": {
      "text/plain": [
       "[1, 2, 3, 4, 5, 6, 7, 8, 9, 10, 11, 12, 13, 14, 15, 16, 17, 18, 19, 20]"
      ]
     },
     "execution_count": 2,
     "metadata": {},
     "output_type": "execute_result"
    }
   ],
   "source": [
    "my_list = [num for num in range(1,21)] # [num1, num2, num3.... num20]\n",
    "my_list"
   ]
  },
  {
   "cell_type": "markdown",
   "metadata": {},
   "source": [
    "    - 搭配 if else"
   ]
  },
  {
   "cell_type": "code",
   "execution_count": 3,
   "metadata": {},
   "outputs": [
    {
     "data": {
      "text/plain": [
       "[2, 4, 6, 8, 10, 12, 14, 16, 18, 20]"
      ]
     },
     "execution_count": 3,
     "metadata": {},
     "output_type": "execute_result"
    }
   ],
   "source": [
    "# 取 1~20 中偶數的部分\n",
    "[num for num in range(1,21) if num % 2 == 0]"
   ]
  },
  {
   "cell_type": "code",
   "execution_count": null,
   "metadata": {},
   "outputs": [],
   "source": [
    "100, 2, 300, 4...."
   ]
  },
  {
   "cell_type": "code",
   "execution_count": 4,
   "metadata": {},
   "outputs": [
    {
     "ename": "SyntaxError",
     "evalue": "invalid syntax (<ipython-input-4-4c32a4e619a6>, line 4)",
     "output_type": "error",
     "traceback": [
      "\u001b[1;36m  File \u001b[1;32m\"<ipython-input-4-4c32a4e619a6>\"\u001b[1;36m, line \u001b[1;32m4\u001b[0m\n\u001b[1;33m    [num for num in range(1,21) if num % 2 == 0 else num * 100]\u001b[0m\n\u001b[1;37m                                                   ^\u001b[0m\n\u001b[1;31mSyntaxError\u001b[0m\u001b[1;31m:\u001b[0m invalid syntax\n"
     ]
    }
   ],
   "source": [
    "# 1 ~20 若是奇數則乘 100，若是偶數則維持不變\n",
    "# 需使用 else, 但若直接加在生成式最後面，則會出錯\n",
    "\n",
    "[num for num in range(1,21) if num % 2 == 0 else num * 100]"
   ]
  },
  {
   "cell_type": "code",
   "execution_count": 5,
   "metadata": {},
   "outputs": [
    {
     "data": {
      "text/plain": [
       "[100,\n",
       " 2,\n",
       " 300,\n",
       " 4,\n",
       " 500,\n",
       " 6,\n",
       " 700,\n",
       " 8,\n",
       " 900,\n",
       " 10,\n",
       " 1100,\n",
       " 12,\n",
       " 1300,\n",
       " 14,\n",
       " 1500,\n",
       " 16,\n",
       " 1700,\n",
       " 18,\n",
       " 1900,\n",
       " 20]"
      ]
     },
     "execution_count": 5,
     "metadata": {},
     "output_type": "execute_result"
    }
   ],
   "source": [
    "# 正確的寫法\n",
    "# 1 ~20 若是奇數則乘 100，若是偶數則維持不變\n",
    "\n",
    "[num if num % 2 == 0 else num * 100 for num in range(1,21)]"
   ]
  },
  {
   "cell_type": "markdown",
   "metadata": {},
   "source": [
    "    - 其實你可以更隨意的指定要建構的元素"
   ]
  },
  {
   "cell_type": "code",
   "execution_count": 6,
   "metadata": {},
   "outputs": [
    {
     "data": {
      "text/plain": [
       "['奇數',\n",
       " '偶數',\n",
       " '奇數',\n",
       " '偶數',\n",
       " '奇數',\n",
       " '偶數',\n",
       " '奇數',\n",
       " '偶數',\n",
       " '奇數',\n",
       " '偶數',\n",
       " '奇數',\n",
       " '偶數',\n",
       " '奇數',\n",
       " '偶數',\n",
       " '奇數',\n",
       " '偶數',\n",
       " '奇數',\n",
       " '偶數',\n",
       " '奇數',\n",
       " '偶數']"
      ]
     },
     "execution_count": 6,
     "metadata": {},
     "output_type": "execute_result"
    }
   ],
   "source": [
    "# 1~20中，偶數則返回\"偶數\"，奇數則返回\"奇數\"\n",
    "\n",
    "['偶數' if num % 2 == 0 else '奇數' for num in range(1,21)]"
   ]
  },
  {
   "cell_type": "markdown",
   "metadata": {},
   "source": [
    "[-- QUIZ --]\n",
    "\n",
    "1~20中，使用生成式:\n",
    "\n",
    "找出5的倍數\n",
    "\n",
    "將5的倍數改為字串呈現，其他數字維持不變"
   ]
  },
  {
   "cell_type": "code",
   "execution_count": 4,
   "metadata": {},
   "outputs": [
    {
     "data": {
      "text/plain": [
       "[1, 2, 3, 4, '5', 6, 7, 8, 9, '10', 11, 12, 13, 14, '15', 16, 17, 18, 19, '20']"
      ]
     },
     "execution_count": 4,
     "metadata": {},
     "output_type": "execute_result"
    }
   ],
   "source": [
    "[str(n) if n % 5 == 0 else n for n in range(1, 21)]"
   ]
  },
  {
   "cell_type": "markdown",
   "metadata": {},
   "source": [
    "[-- QUIZ --]\n",
    "\n",
    "給定一字串 \n",
    "```\n",
    "mixed = [3.14, 'I', 9999, 'believe', [2,5,8], 'I', 'can', None, 'fly']\n",
    "```\n",
    "\n",
    "將字串部分取出成為一個list\n",
    "\n",
    "將此list還原成完整的句子"
   ]
  },
  {
   "cell_type": "code",
   "execution_count": 2,
   "metadata": {},
   "outputs": [
    {
     "name": "stdout",
     "output_type": "stream",
     "text": [
      "['I', 'believe', 'I', 'can', 'fly']\n"
     ]
    },
    {
     "data": {
      "text/plain": [
       "'I believe I can fly'"
      ]
     },
     "execution_count": 2,
     "metadata": {},
     "output_type": "execute_result"
    }
   ],
   "source": [
    "mixed = [3.14, 'I', 9999, 'believe', [2,5,8], 'I', 'can', None, 'fly']\n",
    "print([x for x in mixed if type(x) == str])\n",
    "' '.join([x for x in mixed if type(x) == str])"
   ]
  },
  {
   "cell_type": "markdown",
   "metadata": {},
   "source": [
    "---"
   ]
  },
  {
   "cell_type": "markdown",
   "metadata": {},
   "source": [
    "## set生成式\n",
    "\n",
    "    - 與list生成式的操作方式基本上相同\n",
    "    - 使用關鍵在於set本身值不可重複的特性"
   ]
  },
  {
   "cell_type": "code",
   "execution_count": 5,
   "metadata": {},
   "outputs": [
    {
     "name": "stdout",
     "output_type": "stream",
     "text": [
      "[1, 1, 2, 2, 3]\n",
      "{1, 2, 3}\n"
     ]
    }
   ],
   "source": [
    "print([n for n in [1,1,2,2,3]])\n",
    "print({n for n in [1,1,2,2,3]})"
   ]
  },
  {
   "cell_type": "markdown",
   "metadata": {},
   "source": [
    "---"
   ]
  },
  {
   "cell_type": "markdown",
   "metadata": {},
   "source": [
    "## dict生成式\n",
    "\n",
    "    - 適用於將兩個資料序列組合成dict"
   ]
  },
  {
   "cell_type": "markdown",
   "metadata": {},
   "source": [
    "- ### 使用索引依序迭代\n",
    "    \n",
    "    \n",
    "    - 前提是兩個序列長度需一致"
   ]
  },
  {
   "cell_type": "code",
   "execution_count": 9,
   "metadata": {},
   "outputs": [
    {
     "name": "stdout",
     "output_type": "stream",
     "text": [
      "0\n",
      "name\n",
      "Tony\n",
      "-----\n",
      "1\n",
      "age\n",
      "25\n",
      "-----\n",
      "2\n",
      "gender\n",
      "male\n",
      "-----\n"
     ]
    }
   ],
   "source": [
    "list1 = ['name', 'age', 'gender']\n",
    "list2 = ['Tony', '25', 'male']\n",
    "for i in range(len(list1)):\n",
    "    print(i)\n",
    "    print(list1[i])\n",
    "    print(list2[i])\n",
    "    print('-----')"
   ]
  },
  {
   "cell_type": "code",
   "execution_count": 1,
   "metadata": {},
   "outputs": [
    {
     "data": {
      "text/plain": [
       "{'name': 'Tony', 'age': '25', 'gender': 'male'}"
      ]
     },
     "execution_count": 1,
     "metadata": {},
     "output_type": "execute_result"
    }
   ],
   "source": [
    "list1 = ['name', 'age', 'gender']\n",
    "list2 = ['Tony', '25', 'male']\n",
    "\n",
    "{list1[i]:list2[i] for i in range(len(list1))}"
   ]
  },
  {
   "cell_type": "markdown",
   "metadata": {},
   "source": [
    "- ### 內建函式zip()\n",
    "\n",
    "\n",
    "    - 每次從各序列分別取出一個元素做操作\n",
    "    - zip每次會回傳一個tuple，接著用tuple展開式宣告變數"
   ]
  },
  {
   "cell_type": "code",
   "execution_count": 2,
   "metadata": {},
   "outputs": [
    {
     "data": {
      "text/plain": [
       "{'name': 'Tony', 'age': '25', 'gender': 'male'}"
      ]
     },
     "execution_count": 2,
     "metadata": {},
     "output_type": "execute_result"
    }
   ],
   "source": [
    "list1 = ['name', 'age', 'gender']\n",
    "list2 = ['Tony', '25', 'male']\n",
    "\n",
    "{k:v for k,v in zip(list1, list2)}"
   ]
  },
  {
   "cell_type": "markdown",
   "metadata": {},
   "source": [
    "---"
   ]
  },
  {
   "cell_type": "markdown",
   "metadata": {},
   "source": [
    "## tuple生成式並不存在"
   ]
  },
  {
   "cell_type": "markdown",
   "metadata": {},
   "source": [
    "- ### 如果用生成式的結構強行執行tuple\n",
    "\n",
    "\n",
    "    - 將會得到名為產生器的物件"
   ]
  },
  {
   "cell_type": "code",
   "execution_count": 4,
   "metadata": {},
   "outputs": [
    {
     "data": {
      "text/plain": [
       "<generator object <genexpr> at 0x000002146AFD9C00>"
      ]
     },
     "execution_count": 4,
     "metadata": {},
     "output_type": "execute_result"
    }
   ],
   "source": [
    "(x for x in range(10))"
   ]
  },
  {
   "cell_type": "markdown",
   "metadata": {},
   "source": [
    "- ### 將list生成式用tuple型態傳換取得tuple"
   ]
  },
  {
   "cell_type": "code",
   "execution_count": 3,
   "metadata": {},
   "outputs": [
    {
     "data": {
      "text/plain": [
       "(0, 1, 2, 3, 4, 5, 6, 7, 8, 9)"
      ]
     },
     "execution_count": 3,
     "metadata": {},
     "output_type": "execute_result"
    }
   ],
   "source": [
    "tuple([x for x in range(10)])"
   ]
  },
  {
   "cell_type": "code",
   "execution_count": null,
   "metadata": {},
   "outputs": [],
   "source": []
  }
 ],
 "metadata": {
  "kernelspec": {
   "display_name": "Python 3 (ipykernel)",
   "language": "python",
   "name": "python3"
  },
  "language_info": {
   "codemirror_mode": {
    "name": "ipython",
    "version": 3
   },
   "file_extension": ".py",
   "mimetype": "text/x-python",
   "name": "python",
   "nbconvert_exporter": "python",
   "pygments_lexer": "ipython3",
   "version": "3.9.7"
  }
 },
 "nbformat": 4,
 "nbformat_minor": 2
}
