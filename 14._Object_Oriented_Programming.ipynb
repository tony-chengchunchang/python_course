{
 "cells": [
  {
   "cell_type": "markdown",
   "metadata": {},
   "source": [
    "## 物件導向\n",
    "\n",
    "    - 將資料與動作綁在一起"
   ]
  },
  {
   "cell_type": "markdown",
   "metadata": {},
   "source": [
    "- ### 什麼是物件?\n",
    "\n",
    "\n",
    "    - 現代化的程式設計概念\n",
    "    - 用來對於要完成的任務做一個抽象化的描述\n",
    "    - 沒有絕對的正確，只有相對的好壞\n",
    "    - 例:\n",
    "        現實翻譯機是由那些要素所構成?\n",
    "        資料: 不同語言相對應的詞彙\n",
    "        動作1: 將輸入文字轉換為另一語言\n",
    "        動作2: 查詢同義反義字\n",
    "        動作3: 將單字存到我的最愛\n",
    "        \n",
    "        想像程式中的物件就是一個包含上述元素的\"東西\"\n",
    "        這個東西在Python中被稱作object，也就是物件"
   ]
  },
  {
   "cell_type": "markdown",
   "metadata": {},
   "source": [
    "- ### 物件的組成\n",
    "\n",
    "\n",
    "    - 屬性: 屬於物件獨有的變數\n",
    "    - 方法: 屬於物件獨有的函式\n",
    "    - 屬性和方法搭配用來解決某個特定的需求，意即針對某個需求，創造一個物件，專門用來處理他"
   ]
  },
  {
   "cell_type": "markdown",
   "metadata": {},
   "source": [
    "- ### 類別\n",
    "\n",
    "\n",
    "    - 物件是根據類別創造出來的，類別可以產生一個或多個不同的物件\n",
    "    - 這個過程稱為\"實例化\"，實務上常用initiate, instantiate, new來稱呼這個動作\n",
    "    - 被實例化出來的物件，稱為該類別的\"實例\" (instance)\n",
    "    - 因此類別是對於這些實例的整體性描述\n",
    "    - 大多數的情況，我們會針對被實例化的物件做操作\n",
    "    - 但其實，如果情境非常單純，有時也可以直接使用類別本身做操作"
   ]
  },
  {
   "cell_type": "markdown",
   "metadata": {},
   "source": [
    "- ### 範例"
   ]
  },
  {
   "cell_type": "markdown",
   "metadata": {},
   "source": [
    "    - 定義一個翻譯器類別"
   ]
  },
  {
   "cell_type": "code",
   "execution_count": 1,
   "metadata": {},
   "outputs": [],
   "source": [
    "class Translator:                                     # 定義類別名稱\n",
    "    data = {'I': '我', 'you':'你'}                    # 資料來源，即屬性\n",
    "    def translate(word):                              # 翻譯方法 \n",
    "        if word in Translator.data:\n",
    "            return Translator.data[word]\n",
    "        else:\n",
    "            print('I dont know')\n",
    "    \n",
    "    def add_word(word, chinese):                      # 擴充資料庫\n",
    "        Translator.data[word] = chinese"
   ]
  },
  {
   "cell_type": "code",
   "execution_count": 2,
   "metadata": {},
   "outputs": [
    {
     "data": {
      "text/plain": [
       "'我'"
      ]
     },
     "execution_count": 2,
     "metadata": {},
     "output_type": "execute_result"
    }
   ],
   "source": [
    "Translator.translate('I')"
   ]
  },
  {
   "cell_type": "code",
   "execution_count": 3,
   "metadata": {},
   "outputs": [
    {
     "data": {
      "text/plain": [
       "'他'"
      ]
     },
     "execution_count": 3,
     "metadata": {},
     "output_type": "execute_result"
    }
   ],
   "source": [
    "Translator.add_word('he', '他')\n",
    "Translator.translate('he')\n",
    "\n",
    "# 注意這裡的擴充，僅限本次操作有效，當下一次啟動這個類別時，資料庫依然會照原始的定義呈現 (沒有'he')"
   ]
  },
  {
   "cell_type": "markdown",
   "metadata": {},
   "source": [
    "    - 以上寫法針對一個特定情境: 這是一個英中翻譯器\n",
    "    - 但翻譯器可以有很多種類，如英韓翻譯...\n",
    "    - 重新定義類別，用不同翻譯器類型，實例化物件"
   ]
  },
  {
   "cell_type": "code",
   "execution_count": 4,
   "metadata": {},
   "outputs": [],
   "source": [
    "class Translator:\n",
    "    data = {\n",
    "        'eng_to_chi': {'I': '我', 'you':'你'},\n",
    "        'eng_to_kor': {'I': '저', 'you':'너'}\n",
    "    }\n",
    "    \n",
    "    def __init__(self, type_):  # __init__方法，為每個物件實例化時，會直接執行的方法，self綁定為第一個參數，代表實例化物件本身\n",
    "        self.source = self.data[type_]  # 這裡用self存取類別屬性data，因為實例中沒有的屬性，Python會直接在類別中尋找\n",
    "        \n",
    "    def translate(self, word):\n",
    "        return self.source[word]"
   ]
  },
  {
   "cell_type": "code",
   "execution_count": 5,
   "metadata": {},
   "outputs": [],
   "source": [
    "e_k_translator = Translator('eng_to_kor') # 實例化物件的語法，括號中帶入的引數是__init__中定義的 type_"
   ]
  },
  {
   "cell_type": "code",
   "execution_count": 6,
   "metadata": {},
   "outputs": [
    {
     "data": {
      "text/plain": [
       "'저'"
      ]
     },
     "execution_count": 6,
     "metadata": {},
     "output_type": "execute_result"
    }
   ],
   "source": [
    "e_k_translator.translate('I')"
   ]
  },
  {
   "cell_type": "markdown",
   "metadata": {},
   "source": [
    "## 物件導向三特性"
   ]
  },
  {
   "cell_type": "markdown",
   "metadata": {},
   "source": [
    "- ### 封裝\n",
    "    將程式碼詳細內容記載在類別中，使用時直接實例化後使用，簡化編寫程序\n"
   ]
  },
  {
   "cell_type": "markdown",
   "metadata": {},
   "source": [
    "- ### 繼承\n",
    "\n",
    "\n",
    "    - 一個類別(父類別)可以被其他類別(子類別)繼承\n",
    "    - 繼承後的類別具有其父類別的所有屬性及方法"
   ]
  },
  {
   "cell_type": "code",
   "execution_count": 8,
   "metadata": {},
   "outputs": [],
   "source": [
    "class Human:\n",
    "    def __init__(self, name):\n",
    "        self.name = name\n",
    "    \n",
    "    def walk(self):\n",
    "        print('Normal walk')\n",
    "\n",
    "class YoungHuman(Human):\n",
    "    def __init__(self, name):\n",
    "        super().__init__(name)\n"
   ]
  },
  {
   "cell_type": "code",
   "execution_count": 9,
   "metadata": {},
   "outputs": [
    {
     "name": "stdout",
     "output_type": "stream",
     "text": [
      "Normal walk\n",
      "Normal walk\n"
     ]
    }
   ],
   "source": [
    "human = Human('Tom')\n",
    "young = YoungHuman('Jerry')\n",
    "\n",
    "human.walk()\n",
    "young.walk()"
   ]
  },
  {
   "cell_type": "markdown",
   "metadata": {},
   "source": [
    "- ### 多型\n",
    "\n",
    "\n",
    "    - 多型建立在兩個基礎之上: 繼承與覆寫(override)\n",
    "    - 指在父類別與子類別中(繼承關係)，使用相同名稱的方法，但運作方式不同的狀況\n",
    "    - 通過覆寫子類的方法來達成"
   ]
  },
  {
   "cell_type": "code",
   "execution_count": 10,
   "metadata": {},
   "outputs": [],
   "source": [
    "class Human:\n",
    "    def __init__(self, name):\n",
    "        self.name = name\n",
    "    \n",
    "    def walk(self):\n",
    "        print('Normal walk')\n",
    "\n",
    "class YoungHuman(Human):\n",
    "    def __init__(self, name):\n",
    "        super().__init__(name)\n",
    "        \n",
    "    def walk(self):\n",
    "        print('Fast walk')"
   ]
  },
  {
   "cell_type": "code",
   "execution_count": 11,
   "metadata": {},
   "outputs": [
    {
     "name": "stdout",
     "output_type": "stream",
     "text": [
      "Normal walk\n",
      "Fast walk\n"
     ]
    }
   ],
   "source": [
    "human = Human('Tom')\n",
    "young = YoungHuman('Jerry')\n",
    "\n",
    "human.walk()\n",
    "young.walk()"
   ]
  },
  {
   "cell_type": "markdown",
   "metadata": {},
   "source": [
    "[--QUIZ--]\n",
    "\n",
    "定義一個NightMarket類別，實例化物件包含一個night_market屬性(str,夜市名稱)，及兩個實例方法\n",
    "    1. get_data()，用來取得屬於該夜市的所有資料\n",
    "    2. get_vendors()，用來取得所有不重複的攤位名單\n",
    "\n",
    "```\n",
    "class NightMarket:\n",
    "    # 定義__init__方法\n",
    "    \n",
    "    # 定義get_data方法，用讀取檔案方式載入foodtracer_nightmarket_merge.csv \n",
    "    \n",
    "    # 定義get_vendors方法\n",
    "    \n",
    "\n",
    "```"
   ]
  },
  {
   "cell_type": "code",
   "execution_count": null,
   "metadata": {},
   "outputs": [],
   "source": []
  }
 ],
 "metadata": {
  "kernelspec": {
   "display_name": "Python 3 (ipykernel)",
   "language": "python",
   "name": "python3"
  },
  "language_info": {
   "codemirror_mode": {
    "name": "ipython",
    "version": 3
   },
   "file_extension": ".py",
   "mimetype": "text/x-python",
   "name": "python",
   "nbconvert_exporter": "python",
   "pygments_lexer": "ipython3",
   "version": "3.9.7"
  }
 },
 "nbformat": 4,
 "nbformat_minor": 2
}
