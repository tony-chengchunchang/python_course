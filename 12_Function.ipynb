{
 "cells": [
  {
   "cell_type": "markdown",
   "metadata": {},
   "source": [
    "## 函式 Function\n",
    "\n",
    "\n",
    "    - 可理解為\"一個動作\"\n",
    "    - 用一個函式來表示一個動作中的執行細節\n",
    "    - 具有簡化程式碼、提升可讀性、重複利用等優點"
   ]
  },
  {
   "cell_type": "markdown",
   "metadata": {},
   "source": [
    "---"
   ]
  },
  {
   "cell_type": "markdown",
   "metadata": {},
   "source": [
    "## 定義函式"
   ]
  },
  {
   "cell_type": "markdown",
   "metadata": {},
   "source": [
    "- ### 基本架構\n",
    "\n",
    "\n",
    "    - def關鍵字開頭\n",
    "    - 函式名稱 (呼叫時使用的名稱)\n",
    "    - 圓括號 (定義參數)\n",
    "    - \":\"結尾\n",
    "    - 縮排-->開始編寫函式內容"
   ]
  },
  {
   "cell_type": "code",
   "execution_count": 1,
   "metadata": {},
   "outputs": [],
   "source": [
    "def my_func(arg):\n",
    "    pass\n",
    "\n",
    "# pass的使用，表示不做任何事\n",
    "# 這裡若不使用 pass，則需要有明確的函式程式碼，否則會出錯"
   ]
  },
  {
   "cell_type": "markdown",
   "metadata": {},
   "source": [
    "[-- QUIZ --]   \n",
    "\n",
    "    定義一個函式`hello`   \n",
    "    不帶入任何參數   \n",
    "    印出\"Hello, [你的名字]\"   \n"
   ]
  },
  {
   "cell_type": "markdown",
   "metadata": {},
   "source": [
    "- ### 呼叫函式\n",
    "\n",
    "\n",
    "    - 函式內容只有在被呼叫時才會真的被執行\n",
    "    - 呼叫代表在函式後面加上()"
   ]
  },
  {
   "cell_type": "markdown",
   "metadata": {},
   "source": [
    "[-- QUIZ --]   \n",
    "\n",
    "    嘗試執行   \n",
    "    hello()   \n",
    "    hello\n"
   ]
  },
  {
   "cell_type": "markdown",
   "metadata": {},
   "source": [
    "- ### 使用參數\n",
    "\n",
    "\n",
    "    - 一個簡單的美金匯率轉換函式"
   ]
  },
  {
   "cell_type": "code",
   "execution_count": null,
   "metadata": {},
   "outputs": [],
   "source": [
    "def ntd_to_usd(ntd):\n",
    "    usd = ntd / 30\n",
    "    print(int(usd))\n"
   ]
  },
  {
   "cell_type": "markdown",
   "metadata": {},
   "source": [
    "- ### 加入條件判斷增加彈性\n",
    "\n",
    "\n",
    "    - 若帶入的ntd參數並非數值型態，則會出錯\n",
    "    - 事先在函式中做判斷以避免錯誤"
   ]
  },
  {
   "cell_type": "code",
   "execution_count": 4,
   "metadata": {},
   "outputs": [
    {
     "name": "stdout",
     "output_type": "stream",
     "text": [
      "Please input an integer\n"
     ]
    }
   ],
   "source": [
    "def ntd_to_usd(ntd):\n",
    "    if type(ntd) != int:\n",
    "        print('Please input an integer')\n",
    "    else:\n",
    "        usd = ntd / 30\n",
    "        print(int(usd))\n",
    "    \n",
    "ntd_to_usd('30')"
   ]
  },
  {
   "cell_type": "markdown",
   "metadata": {},
   "source": [
    "- ### return 關鍵字\n",
    "\n",
    "\n",
    "    - 通常我們不會只想將執行結果print出來，而是把結果拿來做進一步利用\n",
    "    - 使用return將結果回傳，並用變數承接\n",
    "    - return代表函式的結束\n",
    "    - 函式執行過程中遇到return則立即停止，並回傳結果"
   ]
  },
  {
   "cell_type": "code",
   "execution_count": 5,
   "metadata": {},
   "outputs": [
    {
     "data": {
      "text/plain": [
       "200"
      ]
     },
     "execution_count": 5,
     "metadata": {},
     "output_type": "execute_result"
    }
   ],
   "source": [
    "def ntd_to_usd(ntd):\n",
    "    if type(ntd) != int:\n",
    "        print('Please input an integer')\n",
    "    else:\n",
    "        usd = ntd / 30\n",
    "        return (int(usd))\n",
    "\n",
    "\n",
    "my_saving_usd = 100\n",
    "my_salary_ntd = 3000\n",
    "my_salary_usd = ntd_to_usd(my_salary_ntd)\n",
    "my_saving_usd += my_salary_usd\n",
    "\n",
    "my_saving_usd"
   ]
  },
  {
   "cell_type": "markdown",
   "metadata": {},
   "source": [
    "- ### 使用預設參數\n",
    "\n",
    "\n",
    "    - 注意我們先前使用的美金匯率是30，這是一個寫死的值，在程式執行過程中無法被修改\n",
    "    - 使用預設參數讓匯率可以被調整\n",
    "    - 位置參數與關鍵字參數"
   ]
  },
  {
   "cell_type": "code",
   "execution_count": 6,
   "metadata": {},
   "outputs": [
    {
     "data": {
      "text/plain": [
       "185"
      ]
     },
     "execution_count": 6,
     "metadata": {},
     "output_type": "execute_result"
    }
   ],
   "source": [
    "def ntd_to_usd(ntd, rate=30):\n",
    "    if type(ntd) != int:\n",
    "        print('Please input an integer')\n",
    "    else:\n",
    "        usd = ntd / rate\n",
    "        return (int(usd))\n",
    "\n",
    "\n",
    "my_saving_usd = 100\n",
    "my_salary_ntd = 3000\n",
    "my_salary_usd = ntd_to_usd(my_salary_ntd, 35)\n",
    "my_saving_usd += my_salary_usd\n",
    "\n",
    "my_saving_usd"
   ]
  },
  {
   "cell_type": "markdown",
   "metadata": {},
   "source": [
    "[-- QUIZ --]\n",
    "\n",
    "目前ntd_to_usd函式還有幾個缺點:\n",
    "\n",
    "1. ntd參數只接受int，無法處理浮點數\n",
    "\n",
    "2. 回傳的結果為int，與實際情境不符 (美元通常取到小數第二位)\n",
    "\n",
    "嘗試修改以上兩點，優化函式運作\n",
    "\n",
    "用修改過後的函式，將10000 ntd轉為美金，匯率32\n"
   ]
  },
  {
   "cell_type": "markdown",
   "metadata": {},
   "source": [
    "---"
   ]
  },
  {
   "cell_type": "markdown",
   "metadata": {},
   "source": [
    "## 巢狀函式\n",
    "\n",
    "    - 函式中也可以有函式"
   ]
  },
  {
   "cell_type": "code",
   "execution_count": 11,
   "metadata": {},
   "outputs": [],
   "source": [
    "def layer1():\n",
    "    print('layer 1')\n",
    "    def layer2():\n",
    "        print('layer 2')"
   ]
  },
  {
   "cell_type": "markdown",
   "metadata": {},
   "source": [
    "[-- QUIZ --]\n",
    "\n",
    "想想看，以下執行的結果為何?\n",
    "\n",
    "1. layer1()\n",
    "2. layer2()"
   ]
  },
  {
   "cell_type": "markdown",
   "metadata": {},
   "source": [
    "- ### 變數範圍scope\n",
    "\n",
    "\n",
    "    - 巢狀函式中，每一層都可視為一個獨立的環境，也就是各自擁有專屬的變數\n",
    "    - 一個層級中，無法存取再下一層中的變數或是函式\n",
    "    - 然而，當在某一層集中找不到要呼叫的變數或函式時，程式將會往上一層尋找 (若上層仍沒有，則再往上，以此類推)\n",
    "    - 在一個module中，最外一層的變數，稱為全域變數"
   ]
  },
  {
   "cell_type": "code",
   "execution_count": 8,
   "metadata": {},
   "outputs": [],
   "source": [
    "x = 'L0'                # 全域變數 \n",
    "def f1():               # 執行print(x) 及 f2()\n",
    "    print(x)            # L0\n",
    "    def f2():           # 執行print(x) 及 f3()\n",
    "        x = 'L2'        # 重新指定 x\n",
    "        print(x)        # L2\n",
    "        def f3():       # 執行print(x)\n",
    "            global x    # 宣告使用全域變數\n",
    "            print(x)    # L0\n",
    "        f3()\n",
    "    f2()"
   ]
  },
  {
   "cell_type": "code",
   "execution_count": 9,
   "metadata": {},
   "outputs": [
    {
     "data": {
      "text/plain": [
       "'L0'"
      ]
     },
     "execution_count": 9,
     "metadata": {},
     "output_type": "execute_result"
    }
   ],
   "source": [
    "x"
   ]
  },
  {
   "cell_type": "code",
   "execution_count": 10,
   "metadata": {},
   "outputs": [
    {
     "name": "stdout",
     "output_type": "stream",
     "text": [
      "L0\n",
      "L2\n",
      "L0\n"
     ]
    }
   ],
   "source": [
    "f1()"
   ]
  },
  {
   "cell_type": "markdown",
   "metadata": {},
   "source": [
    "[-- QUIZ --]\n",
    "\n",
    "```\n",
    "def f1():\n",
    "    y = 10\n",
    "    f2()\n",
    "def f2():\n",
    "    print(y + 1)\n",
    "```\n",
    "\n",
    "執行f2()結果為何\n",
    "\n",
    "執行f1()結果為何"
   ]
  },
  {
   "cell_type": "markdown",
   "metadata": {},
   "source": [
    "---"
   ]
  },
  {
   "cell_type": "markdown",
   "metadata": {},
   "source": [
    "## lambda 匿名函式\n",
    "\n",
    "    - 簡略的函式定義法\n",
    "    - 必須有回傳值\n"
   ]
  },
  {
   "cell_type": "code",
   "execution_count": 11,
   "metadata": {},
   "outputs": [
    {
     "data": {
      "text/plain": [
       "<function __main__.<lambda>(x)>"
      ]
     },
     "execution_count": 11,
     "metadata": {},
     "output_type": "execute_result"
    }
   ],
   "source": [
    "lambda x: x + 1"
   ]
  },
  {
   "cell_type": "markdown",
   "metadata": {},
   "source": [
    "- ### 將函式作為物件傳遞\n",
    "\n",
    "\n",
    "    - 將函式指定給變數"
   ]
  },
  {
   "cell_type": "code",
   "execution_count": 13,
   "metadata": {},
   "outputs": [
    {
     "data": {
      "text/plain": [
       "2"
      ]
     },
     "execution_count": 13,
     "metadata": {},
     "output_type": "execute_result"
    }
   ],
   "source": [
    "my_func = lambda x: x + 1\n",
    "res = my_func(1)\n",
    "res"
   ]
  },
  {
   "cell_type": "markdown",
   "metadata": {},
   "source": [
    "    - 將函式做為參數\n",
    "    - 以sorted函式為例"
   ]
  },
  {
   "cell_type": "code",
   "execution_count": 15,
   "metadata": {},
   "outputs": [
    {
     "data": {
      "text/plain": [
       "[('a', 3), ('b', 2), ('c', 1)]"
      ]
     },
     "execution_count": 15,
     "metadata": {},
     "output_type": "execute_result"
    }
   ],
   "source": [
    "my_list = [('a',3), ('b',2), ('c',1)]\n",
    "sorted(my_list)"
   ]
  },
  {
   "cell_type": "code",
   "execution_count": 16,
   "metadata": {},
   "outputs": [
    {
     "data": {
      "text/plain": [
       "[('c', 1), ('b', 2), ('a', 3)]"
      ]
     },
     "execution_count": 16,
     "metadata": {},
     "output_type": "execute_result"
    }
   ],
   "source": [
    "sorted(my_list, key=lambda x: x[1])"
   ]
  },
  {
   "cell_type": "code",
   "execution_count": null,
   "metadata": {},
   "outputs": [],
   "source": []
  }
 ],
 "metadata": {
  "kernelspec": {
   "display_name": "Python 3 (ipykernel)",
   "language": "python",
   "name": "python3"
  },
  "language_info": {
   "codemirror_mode": {
    "name": "ipython",
    "version": 3
   },
   "file_extension": ".py",
   "mimetype": "text/x-python",
   "name": "python",
   "nbconvert_exporter": "python",
   "pygments_lexer": "ipython3",
   "version": "3.9.18"
  },
  "varInspector": {
   "cols": {
    "lenName": 16,
    "lenType": 16,
    "lenVar": 40
   },
   "kernels_config": {
    "python": {
     "delete_cmd_postfix": "",
     "delete_cmd_prefix": "del ",
     "library": "var_list.py",
     "varRefreshCmd": "print(var_dic_list())"
    },
    "r": {
     "delete_cmd_postfix": ") ",
     "delete_cmd_prefix": "rm(",
     "library": "var_list.r",
     "varRefreshCmd": "cat(var_dic_list()) "
    }
   },
   "types_to_exclude": [
    "module",
    "function",
    "builtin_function_or_method",
    "instance",
    "_Feature"
   ],
   "window_display": false
  }
 },
 "nbformat": 4,
 "nbformat_minor": 2
}
