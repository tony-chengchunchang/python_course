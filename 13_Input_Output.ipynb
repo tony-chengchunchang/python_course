{
 "cells": [
  {
   "cell_type": "markdown",
   "metadata": {},
   "source": [
    "## 輸入輸出簡述\n",
    "\n",
    "    - 指將資料讀進Python中做操作，或是將資料從Python以其他形式匯出的動作"
   ]
  },
  {
   "cell_type": "markdown",
   "metadata": {},
   "source": [
    "## 編碼與解碼\n",
    "\n",
    "\n",
    "    - 編碼: 將字元轉換為二進位bit，以利電腦儲存的過程\n",
    "    - 解碼: 將bit轉為可讀字元的過程\n",
    "    - Python中字元表示方法為Unicode，Unicode並非編碼，而是一套包含世界所有語言與符號的字元標準\n",
    "    - UTF-8是遵循Unicode標準制定的編碼法，其他類似的還有UTF-16, UTF-32\n",
    "    - windows的中文系統常用編碼: cpXXXX，或是通稱的big5(大五碼)\n"
   ]
  },
  {
   "cell_type": "markdown",
   "metadata": {},
   "source": [
    "- ### 檔案讀寫過程詳解\n",
    "\n",
    "    \n",
    "    讀檔(輸入): 檔案(bits) --(解碼)--> Python字串\n",
    "    寫檔(輸出): Python字串 --(編碼)--> 檔案(bits)\n",
    "    \n",
    "    "
   ]
  },
  {
   "cell_type": "markdown",
   "metadata": {},
   "source": [
    "- ### 路徑簡介\n",
    "\n",
    "\n",
    "    - 樹狀結構\n",
    "    - 路徑的寫法中，\".\"可以表示當前目錄，\"..\"表示上一層目錄\n",
    "    - 不同目錄之間用\"/\"區隔 (windows用\"\\\")\n",
    "    - 決定路徑的要點在於知道目前所在位置\n",
    "    \n",
    "    - 例: 當前位置在dir1底下時\n",
    "          home --- test1.py\n",
    "               |\n",
    "               --- dir1---------  test2.py\n",
    "            \n",
    "          test2.py路徑 : test2.py\n",
    "          test1.py路徑 : ../test1.py\n",
    "                      \n",
    "    - 絕對路徑 & 相對路徑"
   ]
  },
  {
   "cell_type": "markdown",
   "metadata": {},
   "source": [
    "---"
   ]
  },
  {
   "cell_type": "markdown",
   "metadata": {},
   "source": [
    "## 輸入\n",
    "\n",
    "    - 讀取檔案"
   ]
  },
  {
   "cell_type": "markdown",
   "metadata": {},
   "source": [
    "- ### open(file, mode='r')\n",
    "\n",
    "\n",
    "    - 開啟檔案，但不等於讀取\n",
    "    - 僅是將要使用的檔案啟動\n",
    "    - Python的open()會使用作業系統的預設編碼存取檔案\n",
    "    - mode: \n",
    "        - r: 唯讀\n",
    "        - w: 唯寫 (會覆蓋原本內容)\n",
    "        - a: 唯寫 (接續原本內容)\n",
    "        "
   ]
  },
  {
   "cell_type": "markdown",
   "metadata": {},
   "source": [
    "- ### 讀取方法\n",
    "\n",
    "\n",
    "    - read(): 讀取全部資料\n",
    "    - readline(): 讀取一行資料\n",
    "    - readlines(): 逐行讀取資料，用list承接所有資料"
   ]
  },
  {
   "cell_type": "markdown",
   "metadata": {},
   "source": [
    "- ### file.close()\n",
    "\n",
    "\n",
    "        - 被啟動的檔案不會自己關閉，而且一旦開啟則會消耗資源\n",
    "        - 故動作完成後需要有將檔案關閉的動作"
   ]
  },
  {
   "cell_type": "markdown",
   "metadata": {},
   "source": [
    "- ### 範例\n",
    "\n",
    "\n",
    "    - 請下載test.txt檔案"
   ]
  },
  {
   "cell_type": "code",
   "execution_count": 1,
   "metadata": {},
   "outputs": [
    {
     "data": {
      "text/plain": [
       "'hello world\\n\\nHi, my name is Tony.\\n\\nI am an AI engineer.\\n\\nNice to meet you.\\n\\n'"
      ]
     },
     "execution_count": 1,
     "metadata": {},
     "output_type": "execute_result"
    }
   ],
   "source": [
    "f = open('test.txt')   # 產生一個檔案物件 (物件是對檔案的客觀描述)\n",
    "texts = f.read()       # 取得檔案內容，用變數承接\n",
    "f.close()              # 關閉檔案\n",
    "\n",
    "texts                  # 檔案內容以字串表示"
   ]
  },
  {
   "cell_type": "code",
   "execution_count": 2,
   "metadata": {},
   "outputs": [
    {
     "data": {
      "text/plain": [
       "'hello world\\n'"
      ]
     },
     "execution_count": 2,
     "metadata": {},
     "output_type": "execute_result"
    }
   ],
   "source": [
    "f = open('test.txt')\n",
    "text = f.readline()\n",
    "f.close()\n",
    "\n",
    "text                   # readline() 只會讀取一行"
   ]
  },
  {
   "cell_type": "markdown",
   "metadata": {},
   "source": [
    "[--QUIZ--]\n",
    "\n",
    "使用readlines()方法讀取檔案"
   ]
  },
  {
   "cell_type": "markdown",
   "metadata": {},
   "source": [
    "---"
   ]
  },
  {
   "cell_type": "markdown",
   "metadata": {},
   "source": [
    "## 輸出\n",
    "    \n",
    "    - 寫入檔案"
   ]
  },
  {
   "cell_type": "markdown",
   "metadata": {},
   "source": [
    "- ### 寫入方法\n",
    "    \n",
    "    \n",
    "    - file.write()\n",
    "    - 與讀取時相同，需要先開啟檔案物件，執行寫入，之後關閉檔案物件"
   ]
  },
  {
   "cell_type": "code",
   "execution_count": 4,
   "metadata": {},
   "outputs": [],
   "source": [
    "text = 'hello world'\n",
    "\n",
    "f = open('new_test.txt', 'w')\n",
    "f.write(text)\n",
    "f.close()\n"
   ]
  },
  {
   "cell_type": "markdown",
   "metadata": {},
   "source": [
    "[--QUIZ--]\n",
    "\n",
    "查看目錄是否新增檔案"
   ]
  },
  {
   "cell_type": "markdown",
   "metadata": {},
   "source": [
    "---"
   ]
  },
  {
   "cell_type": "markdown",
   "metadata": {},
   "source": [
    "## with 關鍵字\n",
    "\n",
    "    - 前面提到開啟檔案資源之後要記得使用close()關閉\n",
    "    - 但實際上每次都要寫一次close其實是很麻煩的\n",
    "    - 使用with語法可以讓python在執行完工作後自動關閉資源"
   ]
  },
  {
   "cell_type": "code",
   "execution_count": 5,
   "metadata": {},
   "outputs": [
    {
     "data": {
      "text/plain": [
       "['hello world\\n',\n",
       " '\\n',\n",
       " 'Hi, my name is Tony.\\n',\n",
       " '\\n',\n",
       " 'I am an AI engineer.\\n',\n",
       " '\\n',\n",
       " 'Nice to meet you.\\n',\n",
       " '\\n',\n",
       " '\\n']"
      ]
     },
     "execution_count": 5,
     "metadata": {},
     "output_type": "execute_result"
    }
   ],
   "source": [
    "# 將前面的範例改成 with 寫法\n",
    "with open('test.txt') as f:     # as 後面的 f 是變數名稱，代表檔案物件\n",
    "    texts = f.readlines()       # 縮排的區塊定義要執行的動作  \n",
    "    \n",
    "texts"
   ]
  },
  {
   "cell_type": "markdown",
   "metadata": {},
   "source": [
    "---"
   ]
  },
  {
   "cell_type": "markdown",
   "metadata": {},
   "source": [
    "## 載入模組\n",
    "\n",
    "    - 內建模組\n",
    "    - 下載套件/模組"
   ]
  },
  {
   "cell_type": "markdown",
   "metadata": {},
   "source": [
    "- ### import\n",
    "\n",
    "\n",
    "    - 載入整個模組"
   ]
  },
  {
   "cell_type": "code",
   "execution_count": null,
   "metadata": {},
   "outputs": [],
   "source": [
    "import datetime"
   ]
  },
  {
   "cell_type": "markdown",
   "metadata": {},
   "source": [
    "- ### from ... import ...\n",
    "\n",
    "\n",
    "    - 載入部分模組 (物件, 函式)"
   ]
  },
  {
   "cell_type": "code",
   "execution_count": null,
   "metadata": {},
   "outputs": [],
   "source": [
    "from datetime import date"
   ]
  },
  {
   "cell_type": "markdown",
   "metadata": {},
   "source": [
    "---"
   ]
  },
  {
   "cell_type": "markdown",
   "metadata": {},
   "source": [
    "## csv\n",
    "\n",
    "    - 是一種檔案類型\n",
    "    - 定義是以逗號分隔的檔案\n",
    "    - 經常用來呈現表格類型的資料\n",
    "    "
   ]
  },
  {
   "cell_type": "markdown",
   "metadata": {},
   "source": [
    "- ### 範例\n",
    "\n",
    "\n",
    "    - 下載csv_file.csv"
   ]
  },
  {
   "cell_type": "code",
   "execution_count": 3,
   "metadata": {},
   "outputs": [],
   "source": [
    "import csv  # 載入 csv模組"
   ]
  },
  {
   "cell_type": "code",
   "execution_count": 9,
   "metadata": {},
   "outputs": [
    {
     "data": {
      "text/plain": [
       "[['Name', 'Age', 'Gender'], ['Tony', '30', 'M']]"
      ]
     },
     "execution_count": 9,
     "metadata": {},
     "output_type": "execute_result"
    }
   ],
   "source": [
    "#讀取\n",
    "with open('csv_file.csv') as f:\n",
    "    raw = f.readlines()                      # 讀出所有文字內容\n",
    "    texts = list(csv.reader(raw))            # 將raw傳入csv.reader\n",
    "    # 注意這裡回傳一個迭代器(iterator) 可以用 list 直接取得所有結果\n",
    "    \n",
    "texts"
   ]
  },
  {
   "cell_type": "markdown",
   "metadata": {},
   "source": [
    "[--QUIZ--]\n",
    "\n",
    "新增資料到texts   \n",
    "   \n",
    "想想看:   \n",
    "如何新增資料?   \n",
    "資料格式應該為何?"
   ]
  },
  {
   "cell_type": "code",
   "execution_count": 9,
   "metadata": {},
   "outputs": [],
   "source": [
    "#寫入\n",
    "with open('output.csv', 'w') as f:\n",
    "    writer = csv.writer(f)\n",
    "    writer.writerows(texts)"
   ]
  },
  {
   "cell_type": "markdown",
   "metadata": {},
   "source": [
    "[--QUIZ--]\n",
    "\n",
    "下載foodtracer_nightmarket_merge.csv\n",
    "\n",
    "總共有幾筆資料?\n",
    "\n",
    "總共有哪幾個夜市? (注意排除掉重複的資料)\n",
    "\n",
    "總共有哪些店家? (注意排除掉重複的資料)\n",
    "\n",
    "找出原物料來源(產地)來自台南市的店家，將店家資料裝入一個list中回傳\n",
    "\n",
    "店名有\"滷味\"的店家分布於那些夜市\n"
   ]
  },
  {
   "cell_type": "code",
   "execution_count": null,
   "metadata": {},
   "outputs": [],
   "source": []
  }
 ],
 "metadata": {
  "kernelspec": {
   "display_name": "Python 3 (ipykernel)",
   "language": "python",
   "name": "python3"
  },
  "language_info": {
   "codemirror_mode": {
    "name": "ipython",
    "version": 3
   },
   "file_extension": ".py",
   "mimetype": "text/x-python",
   "name": "python",
   "nbconvert_exporter": "python",
   "pygments_lexer": "ipython3",
   "version": "3.9.18"
  }
 },
 "nbformat": 4,
 "nbformat_minor": 2
}
